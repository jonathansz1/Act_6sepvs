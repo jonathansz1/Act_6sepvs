{
 "cells": [
  {
   "cell_type": "code",
   "execution_count": 1,
   "id": "3aa06748",
   "metadata": {},
   "outputs": [],
   "source": [
    "                                                         #actividad 2"
   ]
  },
  {
   "cell_type": "code",
   "execution_count": 2,
   "id": "9ed6ae98",
   "metadata": {},
   "outputs": [],
   "source": [
    "tupla1=(10,\"Hola\", 9.5, \"Cambio\",True)"
   ]
  },
  {
   "cell_type": "code",
   "execution_count": 5,
   "id": "31ee2327",
   "metadata": {},
   "outputs": [
    {
     "data": {
      "text/plain": [
       "(10, 'Hola', 9.5, 'Cambio', True)"
      ]
     },
     "execution_count": 5,
     "metadata": {},
     "output_type": "execute_result"
    }
   ],
   "source": [
    "tupla1"
   ]
  },
  {
   "cell_type": "code",
   "execution_count": 3,
   "id": "984bccee",
   "metadata": {},
   "outputs": [],
   "source": [
    "listadetupla1=list(tupla1)"
   ]
  },
  {
   "cell_type": "code",
   "execution_count": 4,
   "id": "051cc9db",
   "metadata": {},
   "outputs": [
    {
     "data": {
      "text/plain": [
       "[10, 'Hola', 9.5, 'Cambio', True]"
      ]
     },
     "execution_count": 4,
     "metadata": {},
     "output_type": "execute_result"
    }
   ],
   "source": [
    "listadetupla1"
   ]
  },
  {
   "cell_type": "code",
   "execution_count": 11,
   "id": "9b76ba6f",
   "metadata": {},
   "outputs": [],
   "source": [
    "diccionario1={\"1\":listadetupla1[0],\"2\":listadetupla1[1],\"3\":listadetupla1[2],\"4\":listadetupla1[3],\"5\":listadetupla1[4]}"
   ]
  },
  {
   "cell_type": "code",
   "execution_count": 12,
   "id": "52d5a956",
   "metadata": {},
   "outputs": [
    {
     "data": {
      "text/plain": [
       "{'1': 10, '2': 'Hola', '3': 9.5, '4': 'Cambio', '5': True}"
      ]
     },
     "execution_count": 12,
     "metadata": {},
     "output_type": "execute_result"
    }
   ],
   "source": [
    "diccionario1"
   ]
  },
  {
   "cell_type": "code",
   "execution_count": null,
   "id": "495ef82c",
   "metadata": {},
   "outputs": [],
   "source": []
  }
 ],
 "metadata": {
  "kernelspec": {
   "display_name": "Python 3",
   "language": "python",
   "name": "python3"
  },
  "language_info": {
   "codemirror_mode": {
    "name": "ipython",
    "version": 3
   },
   "file_extension": ".py",
   "mimetype": "text/x-python",
   "name": "python",
   "nbconvert_exporter": "python",
   "pygments_lexer": "ipython3",
   "version": "3.6.13"
  }
 },
 "nbformat": 4,
 "nbformat_minor": 5
}
